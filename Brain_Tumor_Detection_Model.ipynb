{
  "nbformat": 4,
  "nbformat_minor": 0,
  "metadata": {
    "colab": {
      "provenance": [],
      "gpuType": "T4",
      "toc_visible": true
    },
    "kernelspec": {
      "name": "python3",
      "display_name": "Python 3"
    },
    "language_info": {
      "name": "python"
    },
    "accelerator": "GPU"
  },
  "cells": [
    {
      "cell_type": "markdown",
      "source": [
        "## YES-NO Brain Tumor Detection Model"
      ],
      "metadata": {
        "id": "lyjb9OAvTYSz"
      }
    },
    {
      "cell_type": "markdown",
      "source": [
        "### First Iteration"
      ],
      "metadata": {
        "id": "UNqUfcQbTl9T"
      }
    },
    {
      "cell_type": "markdown",
      "source": [
        "The dataset is organised as depicted below. <br>\n",
        "\n",
        "\n",
        "```\n",
        "train_data/\n",
        "├── NO\n",
        "│   ├── image1.jpg\n",
        "│   ├── image2.jpg\n",
        "│   └── ...\n",
        "└── YES\n",
        "    ├── image1.jpg\n",
        "    ├── image2.jpg\n",
        "    └── ...\n",
        "```\n",
        "\n"
      ],
      "metadata": {
        "id": "HVu2iAkdYs1z"
      }
    },
    {
      "cell_type": "code",
      "execution_count": 1,
      "metadata": {
        "id": "N0k7twpmwj1O",
        "colab": {
          "base_uri": "https://localhost:8080/",
          "height": 106
        },
        "outputId": "679f8d0e-635f-47bc-ab76-872a1f42e171"
      },
      "outputs": [
        {
          "output_type": "error",
          "ename": "SyntaxError",
          "evalue": "invalid syntax (ipython-input-4198241676.py, line 4)",
          "traceback": [
            "\u001b[0;36m  File \u001b[0;32m\"/tmp/ipython-input-4198241676.py\"\u001b[0;36m, line \u001b[0;32m4\u001b[0m\n\u001b[0;31m    from tensorflow.keras import layers, models m n\u001b[0m\n\u001b[0m                                                ^\u001b[0m\n\u001b[0;31mSyntaxError\u001b[0m\u001b[0;31m:\u001b[0m invalid syntax\n"
          ]
        }
      ],
      "source": [
        "import os\n",
        "import numpy as np\n",
        "import tensorflow as tf\n",
        "from tensorflow.keras import layers, models m n\n",
        "from tensorflow.keras.preprocessing.image import ImageDataGenerator\n",
        "from sklearn.model_selection import train_test_split\n",
        "\n",
        "# Set your dataset paths\n",
        "dataset_path = '/content/drive/MyDrive/CV/Brain Tumor Dataset/brain_tumor_dataset'\n",
        "\n",
        "# Get the list of image files\n",
        "yes_tumor_files = [os.path.join(dataset_path, 'YES', filename) for filename in os.listdir(os.path.join(dataset_path, 'YES'))]\n",
        "no_tumor_files = [os.path.join(dataset_path, 'NO', filename) for filename in os.listdir(os.path.join(dataset_path, 'NO'))]\n",
        "\n",
        "# Assuming all images have the same dimensions\n",
        "img_height, img_width = 224, 224\n",
        "\n",
        "# Create a list to store images and labels\n",
        "images = []\n",
        "labels = []\n",
        "\n",
        "# Load images with tumors ('YES')\n",
        "for file_path in yes_tumor_files:\n",
        "    img = tf.keras.preprocessing.image.load_img(file_path, target_size=(img_height, img_width))\n",
        "    img_array = tf.keras.preprocessing.image.img_to_array(img)\n",
        "    images.append(img_array)\n",
        "    labels.append(1)  # 1 for 'YES'\n",
        "\n",
        "# Load images without tumors ('NO')\n",
        "for file_path in no_tumor_files:\n",
        "    img = tf.keras.preprocessing.image.load_img(file_path, target_size=(img_height, img_width))\n",
        "    img_array = tf.keras.preprocessing.image.img_to_array(img)\n",
        "    images.append(img_array)\n",
        "    labels.append(0)  # 0 for 'NO'\n",
        "\n",
        "# Convert the lists to NumPy arrays\n",
        "images = np.array(images)\n",
        "labels = np.array(labels)\n",
        "\n",
        "# Split the data into training and validation sets\n",
        "X_train, X_val, y_train, y_val = train_test_split(images, labels, test_size=0.2, random_state=42)\n",
        "\n",
        "# Create a CNN model with more layers\n",
        "model = models.Sequential()\n",
        "model.add(layers.Conv2D(32, (3, 3), activation='relu', input_shape=(img_height, img_width, 3)))\n",
        "model.add(layers.MaxPooling2D((2, 2)))\n",
        "model.add(layers.Conv2D(64, (3, 3), activation='relu'))\n",
        "model.add(layers.MaxPooling2D((2, 2)))\n",
        "model.add(layers.Conv2D(128, (3, 3), activation='relu'))\n",
        "model.add(layers.MaxPooling2D((2, 2)))\n",
        "model.add(layers.Flatten())\n",
        "model.add(layers.Dense(128, activation='relu'))\n",
        "model.add(layers.Dropout(0.5))  # Dropout layer for regularization\n",
        "model.add(layers.Dense(64, activation='relu'))\n",
        "model.add(layers.Dense(1, activation='sigmoid'))\n",
        "\n",
        "# Compile the model\n",
        "model.compile(optimizer='adam', loss='binary_crossentropy', metrics=['accuracy'])\n",
        "\n",
        "# Data augmentation\n",
        "train_datagen = ImageDataGenerator(rescale=1./255, shear_range=0.2, zoom_range=0.2, horizontal_flip=True)\n",
        "train_datagen.fit(X_train)\n",
        "\n",
        "# Train the model\n",
        "model.fit(train_datagen.flow(X_train, y_train, batch_size=32), epochs=176, validation_data=(X_val, y_val))\n",
        "\n",
        "# Evaluate the model\n",
        "test_loss, test_acc = model.evaluate(X_val, y_val)\n",
        "print(f\"Test Accuracy: {test_acc}\")\n",
        "\n",
        "# Save the model\n",
        "model.save(\"Brain Tumor Detection Model.h5\")\n"
      ]
    },
    {
      "cell_type": "markdown",
      "source": [
        "### Trying to improve accuracy"
      ],
      "metadata": {
        "id": "lkqhsswxKNjT"
      }
    },
    {
      "cell_type": "markdown",
      "source": [
        "Trying to improve the accuracy of the model by introducing some Data Augmentation to the images. <br>\n",
        "The idea is Augmenting the images (altering them slighly) can improve the accuracy of the model. <br>\n",
        "But, if not done correctly, it can actually lower the accuracy of the module. <br>\n"
      ],
      "metadata": {
        "id": "ZoANX5pwYiPb"
      }
    },
    {
      "cell_type": "code",
      "source": [
        "import os\n",
        "import numpy as np\n",
        "import tensorflow as tf\n",
        "from tensorflow.keras import layers, models\n",
        "from tensorflow.keras.preprocessing.image import ImageDataGenerator\n",
        "from sklearn.model_selection import train_test_split\n",
        "\n",
        "# Set your dataset paths\n",
        "dataset_path = '/content/drive/MyDrive/CV/Brain Tumor Dataset/brain_tumor_dataset'\n",
        "\n",
        "# Get the list of image files\n",
        "yes_tumor_files = [os.path.join(dataset_path, 'YES', filename) for filename in os.listdir(os.path.join(dataset_path, 'YES'))]\n",
        "no_tumor_files = [os.path.join(dataset_path, 'NO', filename) for filename in os.listdir(os.path.join(dataset_path, 'NO'))]\n",
        "\n",
        "# Assuming all images have the same dimensions\n",
        "img_height, img_width = 224, 224\n",
        "\n",
        "# Create a list to store images and labels\n",
        "images = []\n",
        "labels = []\n",
        "\n",
        "# Load images with tumors ('YES')\n",
        "for file_path in yes_tumor_files:\n",
        "    img = tf.keras.preprocessing.image.load_img(file_path, target_size=(img_height, img_width))\n",
        "    img_array = tf.keras.preprocessing.image.img_to_array(img)\n",
        "    images.append(img_array)\n",
        "    labels.append(1)  # 1 for 'YES'\n",
        "\n",
        "# Load images without tumors ('NO')\n",
        "for file_path in no_tumor_files:\n",
        "    img = tf.keras.preprocessing.image.load_img(file_path, target_size=(img_height, img_width))\n",
        "    img_array = tf.keras.preprocessing.image.img_to_array(img)\n",
        "    images.append(img_array)\n",
        "    labels.append(0)  # 0 for 'NO'\n",
        "\n",
        "# Convert the lists to NumPy arrays\n",
        "images = np.array(images)\n",
        "labels = np.array(labels)\n",
        "\n",
        "# Split the data into training and validation sets\n",
        "X_train, X_val, y_train, y_val = train_test_split(images, labels, test_size=0.2, random_state=42)\n",
        "\n",
        "# Create a CNN model with more layers\n",
        "model = models.Sequential()\n",
        "model.add(layers.Conv2D(32, (3, 3), activation='relu', input_shape=(img_height, img_width, 3)))\n",
        "model.add(layers.MaxPooling2D((2, 2)))\n",
        "model.add(layers.Conv2D(64, (3, 3), activation='relu'))\n",
        "model.add(layers.MaxPooling2D((2, 2)))\n",
        "model.add(layers.Conv2D(128, (3, 3), activation='relu'))\n",
        "model.add(layers.MaxPooling2D((2, 2)))\n",
        "model.add(layers.Flatten())\n",
        "model.add(layers.Dense(128, activation='relu'))\n",
        "model.add(layers.Dropout(0.5))  # Dropout layer for regularization\n",
        "model.add(layers.Dense(64, activation='relu'))\n",
        "model.add(layers.Dense(1, activation='sigmoid'))\n",
        "\n",
        "# Compile the model\n",
        "model.compile(optimizer='adam', loss='binary_crossentropy', metrics=['accuracy'])\n",
        "\n",
        "# Data augmentation\n",
        "train_datagen = ImageDataGenerator(\n",
        "    rescale=1./255,\n",
        "    shear_range=0.2,\n",
        "    zoom_range=0.2,\n",
        "    horizontal_flip=True\n",
        ")\n",
        "\n",
        "# You can use the flow method directly on your image arrays\n",
        "train_generator = train_datagen.flow(X_train, y_train, batch_size=32)\n",
        "\n",
        "# Train the model\n",
        "model.fit(train_generator, epochs=176, validation_data=(X_val, y_val))\n",
        "\n",
        "# Evaluate the model\n",
        "test_loss, test_acc = model.evaluate(X_val, y_val)\n",
        "print(f\"Test Accuracy: {test_acc}\")\n",
        "\n",
        "# Save the model\n",
        "model.save(\"MRI Brain Tumor Detection Model v2.h5\")"
      ],
      "metadata": {
        "colab": {
          "base_uri": "https://localhost:8080/",
          "height": 211
        },
        "id": "QjDbipshKT_0",
        "outputId": "75b3e59c-e8a5-453c-bb2d-8885c90ebe87"
      },
      "execution_count": null,
      "outputs": [
        {
          "output_type": "error",
          "ename": "FileNotFoundError",
          "evalue": "[Errno 2] No such file or directory: '/content/drive/MyDrive/CV/Brain Tumor Dataset/brain_tumor_dataset/YES'",
          "traceback": [
            "\u001b[0;31m---------------------------------------------------------------------------\u001b[0m",
            "\u001b[0;31mFileNotFoundError\u001b[0m                         Traceback (most recent call last)",
            "\u001b[0;32m/tmp/ipython-input-2-450243147.py\u001b[0m in \u001b[0;36m<cell line: 0>\u001b[0;34m()\u001b[0m\n\u001b[1;32m     10\u001b[0m \u001b[0;34m\u001b[0m\u001b[0m\n\u001b[1;32m     11\u001b[0m \u001b[0;31m# Get the list of image files\u001b[0m\u001b[0;34m\u001b[0m\u001b[0;34m\u001b[0m\u001b[0m\n\u001b[0;32m---> 12\u001b[0;31m \u001b[0myes_tumor_files\u001b[0m \u001b[0;34m=\u001b[0m \u001b[0;34m[\u001b[0m\u001b[0mos\u001b[0m\u001b[0;34m.\u001b[0m\u001b[0mpath\u001b[0m\u001b[0;34m.\u001b[0m\u001b[0mjoin\u001b[0m\u001b[0;34m(\u001b[0m\u001b[0mdataset_path\u001b[0m\u001b[0;34m,\u001b[0m \u001b[0;34m'YES'\u001b[0m\u001b[0;34m,\u001b[0m \u001b[0mfilename\u001b[0m\u001b[0;34m)\u001b[0m \u001b[0;32mfor\u001b[0m \u001b[0mfilename\u001b[0m \u001b[0;32min\u001b[0m \u001b[0mos\u001b[0m\u001b[0;34m.\u001b[0m\u001b[0mlistdir\u001b[0m\u001b[0;34m(\u001b[0m\u001b[0mos\u001b[0m\u001b[0;34m.\u001b[0m\u001b[0mpath\u001b[0m\u001b[0;34m.\u001b[0m\u001b[0mjoin\u001b[0m\u001b[0;34m(\u001b[0m\u001b[0mdataset_path\u001b[0m\u001b[0;34m,\u001b[0m \u001b[0;34m'YES'\u001b[0m\u001b[0;34m)\u001b[0m\u001b[0;34m)\u001b[0m\u001b[0;34m]\u001b[0m\u001b[0;34m\u001b[0m\u001b[0;34m\u001b[0m\u001b[0m\n\u001b[0m\u001b[1;32m     13\u001b[0m \u001b[0mno_tumor_files\u001b[0m \u001b[0;34m=\u001b[0m \u001b[0;34m[\u001b[0m\u001b[0mos\u001b[0m\u001b[0;34m.\u001b[0m\u001b[0mpath\u001b[0m\u001b[0;34m.\u001b[0m\u001b[0mjoin\u001b[0m\u001b[0;34m(\u001b[0m\u001b[0mdataset_path\u001b[0m\u001b[0;34m,\u001b[0m \u001b[0;34m'NO'\u001b[0m\u001b[0;34m,\u001b[0m \u001b[0mfilename\u001b[0m\u001b[0;34m)\u001b[0m \u001b[0;32mfor\u001b[0m \u001b[0mfilename\u001b[0m \u001b[0;32min\u001b[0m \u001b[0mos\u001b[0m\u001b[0;34m.\u001b[0m\u001b[0mlistdir\u001b[0m\u001b[0;34m(\u001b[0m\u001b[0mos\u001b[0m\u001b[0;34m.\u001b[0m\u001b[0mpath\u001b[0m\u001b[0;34m.\u001b[0m\u001b[0mjoin\u001b[0m\u001b[0;34m(\u001b[0m\u001b[0mdataset_path\u001b[0m\u001b[0;34m,\u001b[0m \u001b[0;34m'NO'\u001b[0m\u001b[0;34m)\u001b[0m\u001b[0;34m)\u001b[0m\u001b[0;34m]\u001b[0m\u001b[0;34m\u001b[0m\u001b[0;34m\u001b[0m\u001b[0m\n\u001b[1;32m     14\u001b[0m \u001b[0;34m\u001b[0m\u001b[0m\n",
            "\u001b[0;31mFileNotFoundError\u001b[0m: [Errno 2] No such file or directory: '/content/drive/MyDrive/CV/Brain Tumor Dataset/brain_tumor_dataset/YES'"
          ]
        }
      ]
    },
    {
      "cell_type": "markdown",
      "source": [
        "### Final Result"
      ],
      "metadata": {
        "id": "ZrYyGWxbom8I"
      }
    },
    {
      "cell_type": "markdown",
      "source": [
        "The accuracy of the original model was - 70.588% <br>\n",
        "The accuracy of the  model after introducing data augmentation - 72.549% <br>\n",
        "Accuracy was improved by 1.961%. <br>"
      ],
      "metadata": {
        "id": "-OKr8G4BoscJ"
      }
    },
    {
      "cell_type": "markdown",
      "source": [
        "## Advanced model cuz why  not (detection of multiply types of tumors)"
      ],
      "metadata": {
        "id": "r2x-u9DDQ2pr"
      }
    },
    {
      "cell_type": "markdown",
      "source": [
        "This is just to test how we can go. This uses a Dataset that has MRI scans of 3 types of brain tumors and a set of normal brain scans. <br>\n",
        "The types of brain tumors are Glioma, Meningioma, and Pituitary. They are labeled respectively in each set. <br>\n",
        "The set of normal brain MRI scans is labeled 'notumor'"
      ],
      "metadata": {
        "id": "uydfoAAfavjq"
      }
    },
    {
      "cell_type": "markdown",
      "source": [
        "### Training a more Advanced Model"
      ],
      "metadata": {
        "id": "M6M52dKOSyQi"
      }
    },
    {
      "cell_type": "markdown",
      "source": [
        "The dataset is organised in the manner depicted below, which is why the keyword 'categorical is used' <br>\n",
        "\n",
        "```\n",
        "train_data/\n",
        "├── glioma\n",
        "│   ├── image1.jpg\n",
        "│   ├── image2.jpg\n",
        "│   └── ...\n",
        "├── meningioma\n",
        "│   ├── image1.jpg\n",
        "│   ├── image2.jpg\n",
        "│   └── ...\n",
        "├── notumor\n",
        "│   ├── image1.jpg\n",
        "│   ├── image2.jpg\n",
        "│   └── ...\n",
        "└── pituitary\n",
        "    ├── image1.jpg\n",
        "    ├── image2.jpg\n",
        "    └── ...\n",
        "```"
      ],
      "metadata": {
        "id": "W11zJGXMEgZm"
      }
    },
    {
      "cell_type": "code",
      "source": [
        "import tensorflow as tf\n",
        "from tensorflow.keras.preprocessing.image import ImageDataGenerator\n",
        "from tensorflow.keras.models import Sequential\n",
        "from tensorflow.keras.layers import Dense, Conv2D, MaxPooling2D, Flatten\n",
        "\n",
        "# Load the MRI scan dataset\n",
        "train_datagen = ImageDataGenerator(rescale=1./255)\n",
        "\n",
        "train_generator = train_datagen.flow_from_directory(\n",
        "    '/content/drive/MyDrive/CV/Brain Tumor Dataset/advanced_brain_tumor_dataset/Training',  # Directory containing training MRI scans\n",
        "    target_size=(224, 224),  # Resize all images to 224x224 pixels\n",
        "    batch_size=32,  # Number of images per batch\n",
        "    class_mode='categorical'  # Classify images into four categories (glioma, meningioma, notumor, pituitary)\n",
        ")\n",
        "\n",
        "# Define the CNN model architecture\n",
        "model = Sequential()\n",
        "\n",
        "model.add(Conv2D(32, (3, 3), activation='relu', input_shape=(224, 224, 3)))\n",
        "model.add(MaxPooling2D((2, 2)))\n",
        "\n",
        "model.add(Conv2D(64, (3, 3), activation='relu'))\n",
        "model.add(MaxPooling2D((2, 2)))\n",
        "\n",
        "model.add(Conv2D(128, (3, 3), activation='relu'))\n",
        "model.add(MaxPooling2D((2, 2)))\n",
        "\n",
        "model.add(Flatten())\n",
        "model.add(Dense(256, activation='relu'))\n",
        "model.add(Dense(512, activation='relu'))\n",
        "model.add(Dense(4, activation='softmax'))  # Four classes (glioma, meningioma, notumor, pituitary)\n",
        "\n",
        "\n",
        "# Compile the model\n",
        "model.compile(loss='categorical_crossentropy', optimizer='adam', metrics=['accuracy'])\n",
        "\n",
        "# Train the model\n",
        "model.fit(train_generator, epochs=10)\n",
        "\n",
        "# Save the model\n",
        "model.save(\"Advanced Brain Tumor Detection Model.h5\")"
      ],
      "metadata": {
        "id": "1fs15L1eSx30",
        "colab": {
          "base_uri": "https://localhost:8080/"
        },
        "outputId": "c6e7ba77-e146-4790-8471-2800dbea8df7"
      },
      "execution_count": null,
      "outputs": [
        {
          "output_type": "stream",
          "name": "stdout",
          "text": [
            "Found 5712 images belonging to 4 classes.\n",
            "Epoch 1/10\n",
            "179/179 [==============================] - 640s 4s/step - loss: 0.5808 - accuracy: 0.7589\n",
            "Epoch 2/10\n",
            "179/179 [==============================] - 597s 3s/step - loss: 0.2214 - accuracy: 0.9228\n",
            "Epoch 3/10\n",
            "179/179 [==============================] - 603s 3s/step - loss: 0.1348 - accuracy: 0.9519\n",
            "Epoch 4/10\n",
            "179/179 [==============================] - 622s 3s/step - loss: 0.0617 - accuracy: 0.9799\n",
            "Epoch 5/10\n",
            "179/179 [==============================] - 600s 3s/step - loss: 0.0412 - accuracy: 0.9870\n",
            "Epoch 6/10\n",
            "179/179 [==============================] - 601s 3s/step - loss: 0.0432 - accuracy: 0.9867\n",
            "Epoch 7/10\n",
            "179/179 [==============================] - 601s 3s/step - loss: 0.0263 - accuracy: 0.9909\n",
            "Epoch 8/10\n",
            "179/179 [==============================] - 598s 3s/step - loss: 0.0120 - accuracy: 0.9951\n",
            "Epoch 9/10\n",
            "179/179 [==============================] - 598s 3s/step - loss: 0.0166 - accuracy: 0.9951\n",
            "Epoch 10/10\n",
            "179/179 [==============================] - 598s 3s/step - loss: 0.0087 - accuracy: 0.9972\n"
          ]
        },
        {
          "output_type": "stream",
          "name": "stderr",
          "text": [
            "/usr/local/lib/python3.10/dist-packages/keras/src/engine/training.py:3079: UserWarning: You are saving your model as an HDF5 file via `model.save()`. This file format is considered legacy. We recommend using instead the native Keras format, e.g. `model.save('my_model.keras')`.\n",
            "  saving_api.save_model(\n"
          ]
        }
      ]
    },
    {
      "cell_type": "markdown",
      "source": [
        "### Testing the Model\n"
      ],
      "metadata": {
        "id": "tk1GUxthI2B1"
      }
    },
    {
      "cell_type": "code",
      "source": [
        "test_datagen = ImageDataGenerator(rescale=1./255)\n",
        "\n",
        "test_generator = test_datagen.flow_from_directory(\n",
        "    '/content/drive/MyDrive/CV/Brain Tumor Dataset/advanced_brain_tumor_dataset/Testing',  # Directory containing testing MRI scans\n",
        "    target_size=(224, 224),  # Resize all images to 224x224 pixels\n",
        "    batch_size=32,  # Number of images per batch\n",
        "    class_mode='categorical'  # Classify images into four categories (glioma, meningioma, notumor, pituitary)\n",
        ")\n",
        "\n",
        "scores = model.evaluate(test_generator)\n",
        "print(\"Test loss:\", scores[0])\n",
        "print(\"Test accuracy:\", scores[1])\n"
      ],
      "metadata": {
        "id": "Uj0YBmB3I07O",
        "colab": {
          "base_uri": "https://localhost:8080/"
        },
        "outputId": "862d3d85-9e38-4a62-ec9f-ebef1fc55b0a"
      },
      "execution_count": null,
      "outputs": [
        {
          "output_type": "stream",
          "name": "stdout",
          "text": [
            "Found 1311 images belonging to 4 classes.\n",
            "41/41 [==============================] - 340s 8s/step - loss: 0.2285 - accuracy: 0.9542\n",
            "Test loss: 0.2285175621509552\n",
            "Test accuracy: 0.9542334079742432\n"
          ]
        }
      ]
    },
    {
      "cell_type": "markdown",
      "source": [
        "### Final Result"
      ],
      "metadata": {
        "id": "7_Ydb2r5Dgjm"
      }
    },
    {
      "cell_type": "markdown",
      "source": [
        "The model recieved a Test Accuracy of 95.423%. <br>\n",
        "The difference in accuracy between this model and the previous model could be due to the larger dataset, giving the second model more room to learn and grow."
      ],
      "metadata": {
        "id": "V0nyHg85Dvt3"
      }
    },
    {
      "cell_type": "markdown",
      "source": [
        "# Trained Models and Dataset"
      ],
      "metadata": {
        "id": "uswljHiUvj0y"
      }
    },
    {
      "cell_type": "markdown",
      "source": [
        "The Dataset, as well as the model have been provided in the following Google Drive Link <br>\n",
        "GDrive - https://drive.google.com/drive/folders/1-0DtpFBkZwcdMXwOcX1pORdqCpH5Nn63?usp=drive_link"
      ],
      "metadata": {
        "id": "mlJpfJ14v4DL"
      }
    }
  ]
}